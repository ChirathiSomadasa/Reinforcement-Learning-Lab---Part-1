{
  "cells": [
    {
      "cell_type": "markdown",
      "metadata": {
        "id": "view-in-github",
        "colab_type": "text"
      },
      "source": [
        "<a href=\"https://colab.research.google.com/github/ChirathiSomadasa/Reinforcement-Learning-Lab---Part-1/blob/main/Markov_Decision_Process.ipynb\" target=\"_parent\"><img src=\"https://colab.research.google.com/assets/colab-badge.svg\" alt=\"Open In Colab\"/></a>"
      ]
    },
    {
      "cell_type": "markdown",
      "metadata": {
        "id": "-LMwDZHlsAvn"
      },
      "source": [
        "# Markov Decision Process (MDP)"
      ]
    },
    {
      "cell_type": "markdown",
      "metadata": {
        "id": "rK2etKh-sAvo"
      },
      "source": [
        "### Ransalu Senanayake"
      ]
    },
    {
      "cell_type": "code",
      "execution_count": 1,
      "metadata": {
        "id": "Tlr-PNcssAvp"
      },
      "outputs": [],
      "source": [
        "import copy\n",
        "import timeit\n",
        "import numpy as np\n",
        "import matplotlib.pyplot as pl\n",
        "%matplotlib inline\n",
        "from ipywidgets import interactive\n",
        "import ipywidgets as widgets"
      ]
    },
    {
      "cell_type": "markdown",
      "metadata": {
        "id": "_f6VSXlQsAvs"
      },
      "source": [
        "Create the following grid world.\n",
        "\n",
        "**States:** A 10x10 grid\n",
        "\n",
        "**Actions:** Up, Down, Left, Right\n",
        "\n",
        "**Tranistion probabilities:**\n",
        "* 0.7 in the direction of action\n",
        "* 0.1 in the three other directions\n",
        "* The robot bounces back to the same state near edges\n",
        "\n",
        "**Rewards:**\n",
        "* (7,8) has a reward +10\n",
        "* (2,7) has a reward +3\n",
        "* (4,3) has a reward -5\n",
        "* (7,3) has a reward -10\n",
        "* No reward in other states\n",
        "\n",
        "This example is based on Decision Making Under Uncertainty by M.J. Kochenderfer."
      ]
    },
    {
      "cell_type": "code",
      "execution_count": 2,
      "metadata": {
        "id": "sbT7VOEQsAvt"
      },
      "outputs": [],
      "source": [
        "#Let's define MDP paras\n",
        "def createGrid10World():\n",
        "    def xy2s(y, x):\n",
        "        x = max(x, 0)\n",
        "        y = max(y, 0)\n",
        "        x = min(x, 9)\n",
        "        y = min(y, 9)\n",
        "        out = np.ravel_multi_index(np.array([x,y]), (10,10))\n",
        "        return out\n",
        "\n",
        "    def s2xy(s):\n",
        "        x, y = np.unravel_index(s, (10,10))\n",
        "        return y, x\n",
        "\n",
        "    def gridPlot(ax, im, title='', cmap='Blues'):\n",
        "        pl.imshow(im, interpolation='none', cmap=cmap, origin='lower')\n",
        "        pl.colorbar()\n",
        "        ax.set_xticks(np.arange(0, 10, 1));\n",
        "        ax.set_yticks(np.arange(0, 10, 1));\n",
        "        ax.set_xticklabels(np.arange(0, 10, 1));\n",
        "        ax.set_yticklabels(np.arange(0, 10, 1));\n",
        "        ax.set_xticks(np.arange(-.5, 10, 1), minor=True);\n",
        "        ax.set_yticks(np.arange(-.5, 10, 1), minor=True);\n",
        "        ax.grid(which='minor', color='w', linestyle='-', linewidth=1)\n",
        "        pl.title(title);\n",
        "        return\n",
        "\n",
        "    A = ['left', 'right', 'up', 'down']\n",
        "    S = np.arange(100)\n",
        "    T = np.zeros((len(S), len(A), len(S)))\n",
        "    R = np.zeros((len(S), len(A)))\n",
        "    for s in S:\n",
        "        x, y = s2xy(s)\n",
        "        if x == 2 and y == 7:\n",
        "            R[s, :] = 3\n",
        "        elif x == 7 and y == 8:\n",
        "            R[s, :] = 10\n",
        "        else:\n",
        "            if x == 7 and y == 3:\n",
        "                R[s, :] = -10\n",
        "            elif x == 4 and y == 3:\n",
        "                R[s, :] = -5\n",
        "            elif x == 0:\n",
        "                if y == 0 or y == 9:\n",
        "                    R[s, :] = -0.2\n",
        "                else:\n",
        "                    R[s, :] = -0.1\n",
        "                R[s, 0] = -0.7\n",
        "            elif x == 9:\n",
        "                if y == 0 or y == 9:\n",
        "                    R[s, :] = -0.2\n",
        "                else:\n",
        "                    R[s, :] = -0.1\n",
        "                R[s, 1] = -0.7\n",
        "            elif y == 0:\n",
        "                if x == 0 or x == 9:\n",
        "                    R[s, :] = -0.2\n",
        "                else:\n",
        "                    R[s, :] = -0.1\n",
        "                R[s, 3] = -0.7\n",
        "            elif y == 9:\n",
        "                if x == 0 or x == 9:\n",
        "                    R[s, :] = -0.2\n",
        "                else:\n",
        "                    R[s, :] = -0.1\n",
        "                R[s, 2] = -0.7\n",
        "\n",
        "            for a in A:\n",
        "                if a == 'left':\n",
        "                    T[s, 0, xy2s(x - 1, y)] += 0.7\n",
        "                    T[s, 0, xy2s(x + 1, y)] += 0.1\n",
        "                    T[s, 0, xy2s(x, y - 1)] += 0.1\n",
        "                    T[s, 0, xy2s(x, y + 1)] += 0.1\n",
        "                elif a == 'right':\n",
        "                    T[s, 1, xy2s(x + 1, y)] += 0.7\n",
        "                    T[s, 1, xy2s(x - 1, y)] += 0.1\n",
        "                    T[s, 1, xy2s(x, y - 1)] += 0.1\n",
        "                    T[s, 1, xy2s(x, y + 1)] += 0.1\n",
        "                elif a == 'up':\n",
        "                    T[s, 2, xy2s(x, y + 1)] += 0.7\n",
        "                    T[s, 2, xy2s(x, y - 1)] += 0.1\n",
        "                    T[s, 2, xy2s(x - 1, y)] += 0.1\n",
        "                    T[s, 2, xy2s(x + 1, y)] += 0.1\n",
        "                elif a == 'down':\n",
        "                    T[s, 3, xy2s(x, y - 1)] += 0.7\n",
        "                    T[s, 3, xy2s(x, y + 1)] += 0.1\n",
        "                    T[s, 3, xy2s(x - 1, y)] += 0.1\n",
        "                    T[s, 3, xy2s(x + 1, y)] += 0.1\n",
        "\n",
        "    for a, c_x, c_y in [(0,0,0), (0,0,9),(1,9,0),(1,9,9),(2,0,9),(2,9,9),(3,0,0),(3,9,0)]:\n",
        "        R[xy2s(c_x,c_y),a] = -0.8\n",
        "\n",
        "    discount = 0.9\n",
        "\n",
        "    nextStates = {}\n",
        "    for si in range(len(S)):\n",
        "        for ai in range(len(A)):\n",
        "            nextStates[(si,ai)] = np.where((T[si, ai, :] != 0) == True)[0]\n",
        "\n",
        "    return {'S':S, 'A':A, 'T':T, 'R':R, 'discount':discount, 'nextStates':nextStates, 'gridPlot':gridPlot, 'xy2s':xy2s, 's2xy':s2xy}"
      ]
    },
    {
      "cell_type": "code",
      "execution_count": 3,
      "metadata": {
        "id": "BylriiRqsAvv"
      },
      "outputs": [],
      "source": [
        "class MDP():\n",
        "    def __init__(self):\n",
        "        pass\n",
        "\n",
        "    def inbuilt_init(self, mdp_dict):\n",
        "        self.S = mdp_dict['S']\n",
        "        self.A = mdp_dict['A']\n",
        "        self.T = mdp_dict['T']\n",
        "        self.R = mdp_dict['R']\n",
        "        self.discount = mdp_dict['discount']\n",
        "        self.nextStates = mdp_dict['nextStates']\n",
        "        self.gridPlot = mdp_dict['gridPlot']\n",
        "        self.xy2s = mdp_dict['xy2s']\n",
        "        self.s2xy = mdp_dict['s2xy']"
      ]
    },
    {
      "cell_type": "code",
      "execution_count": 4,
      "metadata": {
        "colab": {
          "base_uri": "https://localhost:8080/",
          "height": 1000
        },
        "id": "QGcCuJpasAvy",
        "outputId": "8d7a7cdd-93b4-43fe-d7e4-266ab52bf544"
      },
      "outputs": [
        {
          "output_type": "display_data",
          "data": {
            "text/plain": [
              "<Figure size 300x300 with 2 Axes>"
            ],
            "image/png": "[encoded data removed]"
          },
          "metadata": {}
        },
        {
          "output_type": "display_data",
          "data": {
            "text/plain": [
              "<Figure size 1500x300 with 8 Axes>"
            ],
            "image/png": "[encoded data removed]"
          },
          "metadata": {}
        },
        {
          "output_type": "display_data",
          "data": {
            "text/plain": [
              "<Figure size 1500x300 with 8 Axes>"
            ],
            "image/png": "[encoded data removed]"
          },
          "metadata": {}
        },
        {
          "output_type": "display_data",
          "data": {
            "text/plain": [
              "<Figure size 1500x300 with 8 Axes>"
            ],
            "image/png": "[encoded data removed]"
          },
          "metadata": {}
        }
      ],
      "source": [
        "#Define the MDP\n",
        "mdp = MDP()\n",
        "mdp.inbuilt_init(mdp_dict=createGrid10World())\n",
        "\n",
        "#Plot states\n",
        "pl.figure(figsize=(3,3))\n",
        "mdp.gridPlot(ax=pl.gca(), im=mdp.S.reshape((10,10)), title='States', cmap='Greys')\n",
        "\n",
        "#Plot rewards\n",
        "pl.figure(figsize=(15,3))\n",
        "pl.suptitle('Rewards', fontsize=15)\n",
        "for a in range(4):\n",
        "    pl.subplot(1,4,a+1)\n",
        "    mdp.gridPlot(ax=pl.gca(), im=mdp.R[:,a].reshape((10,10)), title='a='+mdp.A[a], cmap='jet')\n",
        "pl.show()\n",
        "\n",
        "#Plot rewards\n",
        "pl.figure(figsize=(15,3))\n",
        "pl.suptitle('Rewards - clipped larger +ve values for visualizing the edges', fontsize=15)\n",
        "for a in range(4):\n",
        "    pl.subplot(1,4,a+1)\n",
        "    mdp.gridPlot(ax=pl.gca(), im=np.clip(mdp.R[:,a].reshape((10,10)), -1, -0.5), title='a='+mdp.A[a], cmap='jet')\n",
        "pl.show()\n",
        "\n",
        "#Plot rewards\n",
        "s0_x, s0_y = 3, 5\n",
        "s0 = mdp.xy2s(s0_x, s0_y)\n",
        "pl.figure(figsize=(15,3))\n",
        "pl.suptitle('Transition probabilities T(s1|s0=({},{}),a)'.format(s0_x, s0_y), fontsize=15)\n",
        "for a in range(4):\n",
        "    pl.subplot(1,4,a+1)\n",
        "    mdp.gridPlot(ax=pl.gca(), im=mdp.T[s0,a,:].reshape((10,10)), title='a='+mdp.A[a], cmap='Blues')\n",
        "pl.show()"
      ]
    },
    {
      "cell_type": "code",
      "execution_count": 5,
      "metadata": {
        "colab": {
          "base_uri": "https://localhost:8080/",
          "height": 609,
          "referenced_widgets": [
            "9c6da2e03d6f4a679e96befeb99a27ae",
            "999acd8ce37d4c3192b58347bd131c86",
            "8506020462df4549bc9dffbc6a529e58",
            "de6ef5ec25bb4ef7bbd8c108381f47d0",
            "4c015675dacd4c83b26f028dccfe5209",
            "7cf5b395635c48f78225555ecc2b75d6",
            "874588d532c74470afeaa89a3d688465",
            "68a0e9666c9c48b488afae5d01a978a5",
            "f9d13c2a3a394c669d6610736e9be8b9",
            "d4ad99c0ce4348fda97922dd82823980",
            "2b998329acc646d9a82fedb5c6d99968",
            "cc5cca85ffd6468f94f70904c08e0979",
            "fb7645eccce242c18683f8cef4c62c35"
          ]
        },
        "id": "WSh9F6O2sAv1",
        "outputId": "88006cd5-490b-4b59-c68b-5b6781d707fd"
      },
      "outputs": [
        {
          "output_type": "display_data",
          "data": {
            "text/plain": [
              "interactive(children=(Text(value='4', description='s0_x'), Text(value='5', description='s0_y'), ToggleButtons(…"
            ],
            "application/vnd.jupyter.widget-view+json": {
              "version_major": 2,
              "version_minor": 0,
              "model_id": "9c6da2e03d6f4a679e96befeb99a27ae"
            }
          },
          "metadata": {}
        }
      ],
      "source": [
        "#An interactive plot of transition probabilities\n",
        "def f(s0_x, s0_y, action):\n",
        "    a = mdp.A.index(action)\n",
        "    s0 = mdp.xy2s(int(s0_x), int(s0_y))\n",
        "    pl.figure(figsize=(6,6))\n",
        "    title = 'Transition probabilities T(s1|s0=({},{}),a={})'.format(int(s0_x),int(s0_y),action)\n",
        "    mdp.gridPlot(ax=pl.gca(), im=mdp.T[s0,a,:].reshape((10,10)), title=title, cmap='Blues')\n",
        "    pl.show()\n",
        "\n",
        "interactive_plot = interactive(f, s0_x='4', s0_y='5', action=widgets.ToggleButtons(options=['left', 'right', 'up', 'down']))\n",
        "interactive_plot"
      ]
    },
    {
      "cell_type": "markdown",
      "metadata": {
        "id": "CRtcTdgOsAv4"
      },
      "source": [
        "### 1. Policy evaluation\n",
        "\n",
        "Computing the utility, U.\n",
        "\n",
        "$U^\\pi_k(s) = R(s, \\pi(s)) + \\gamma \\sum_{s'} T(s' \\mid s, \\pi(s))U^\\pi_{k-1}(s')$"
      ]
    },
    {
      "cell_type": "code",
      "execution_count": 14,
      "metadata": {
        "colab": {
          "base_uri": "https://localhost:8080/",
          "height": 307
        },
        "id": "cT2yS--rsAv4",
        "outputId": "9f4872c8-0b0c-4913-d6ac-264a4a73f857"
      },
      "outputs": [
        {
          "output_type": "display_data",
          "data": {
            "text/plain": [
              "<Figure size 1500x300 with 8 Axes>"
            ],
            "image/png": "[encoded data removed]"
          },
          "metadata": {}
        }
      ],
      "source": [
        "def iterativePolicyEvaluation(mdp, policy, numIterations=10):\n",
        "    U = np.zeros(len(mdp.S))\n",
        "    U_old = copy.copy(U)\n",
        "    for t in range(numIterations):\n",
        "        #type your code here\n",
        "        for s in range(len(mdp.S)):\n",
        "            # Determine the action based on the policy\n",
        "            if isinstance(policy, int):\n",
        "                # If policy is an integer, use the same action for all states\n",
        "                a = policy\n",
        "            else:\n",
        "                # If policy is an array, use the action specified for this state\n",
        "                a = policy[s]\n",
        "\n",
        "            # Calculate the expected utility using Bellman equation\n",
        "            expected_utility = 0\n",
        "            for s_next in range(len(mdp.S)):\n",
        "                # Sum over all possible next states: T(s,a,s') * U(s')\n",
        "                expected_utility += mdp.T[s, a, s_next] * U_old[s_next]\n",
        "\n",
        "            # Update the utility for current state\n",
        "            # U(s) = R(s,a) + γ * Σ[T(s,a,s') * U(s')]\n",
        "            U[s] = mdp.R[s, a] + mdp.discount * expected_utility\n",
        "\n",
        "        # Update U_old for the next iteration\n",
        "        U_old = copy.copy(U)\n",
        "    return U\n",
        "\n",
        "numIterations = 5\n",
        "pl.figure(figsize=(15,3))\n",
        "pl.suptitle('Utilities', fontsize=15)\n",
        "for a in range(4):\n",
        "    pl.subplot(1,4,a+1)\n",
        "    U = iterativePolicyEvaluation(mdp=mdp, policy=a, numIterations=numIterations)\n",
        "    mdp.gridPlot(ax=pl.gca(), im=U.reshape(10,10), title='a='+mdp.A[a], cmap='jet')\n",
        "pl.show()\n",
        "#print(np.round(U.reshape(10,10),3))"
      ]
    },
    {
      "cell_type": "code",
      "execution_count": 15,
      "metadata": {
        "colab": {
          "base_uri": "https://localhost:8080/",
          "height": 338,
          "referenced_widgets": [
            "290335746fb44b1e9f517863d6a9e6f3",
            "ab68491e06b0482f8036d512f8615da4",
            "5274bb9ead2c4458b4d26d8e08c9b896",
            "0725fa7e2f664421bb5d593bdaf0a106",
            "074513bbf6e2424aaf2f046eec7f3bb6",
            "47546d02517b40c0b5613c0d96c085a7",
            "a7d6d125a4c54bd289af3cf7497dc0ca",
            "92b15ee33d0b434a932e94cb240586bc",
            "41bf152b97ab468d908273ccc730576a",
            "2e8d014ee6884ab3925c97d115968048"
          ]
        },
        "id": "XcMijKgbsAv7",
        "outputId": "8e07dfdb-ffb4-4ddf-9d56-7405288e9cc1"
      },
      "outputs": [
        {
          "output_type": "display_data",
          "data": {
            "text/plain": [
              "interactive(children=(ToggleButtons(description='action', options=('left', 'right', 'up', 'down'), value='left…"
            ],
            "application/vnd.jupyter.widget-view+json": {
              "version_major": 2,
              "version_minor": 0,
              "model_id": "290335746fb44b1e9f517863d6a9e6f3"
            }
          },
          "metadata": {}
        }
      ],
      "source": [
        "def f(action, numIter=1):\n",
        "    U = iterativePolicyEvaluation(mdp, policy=mdp.A.index(action), numIterations=numIter)\n",
        "    pl.figure(figsize=(3,3))\n",
        "    mdp.gridPlot(ax=pl.gca(), im=U.reshape(10,10), title='Utility', cmap='jet')\n",
        "    pl.show()\n",
        "\n",
        "interactive_plot = interactive(f, action=widgets.ToggleButtons(options=['left', 'right', 'up', 'down']),\n",
        "                               numIter=widgets.IntSlider(min=0, max=20, step=1, value=0))\n",
        "interactive_plot"
      ]
    },
    {
      "cell_type": "code",
      "execution_count": 16,
      "metadata": {
        "colab": {
          "base_uri": "https://localhost:8080/",
          "height": 282
        },
        "id": "-L8qvyKAsAv9",
        "outputId": "a8ae68a4-c1e5-4280-85ad-b13f79a999fa"
      },
      "outputs": [
        {
          "output_type": "display_data",
          "data": {
            "text/plain": [
              "<Figure size 300x300 with 2 Axes>"
            ],
            "image/png": "[encoded data removed]"
          },
          "metadata": {}
        }
      ],
      "source": [
        "#Value iteration\n",
        "def valueIteration(mdp, numIterations=1):\n",
        "    U = np.zeros(len(mdp.S))\n",
        "    U_old = copy.copy(U)\n",
        "    for t in range(numIterations):\n",
        "        f#type your code here\n",
        "    return U\n",
        "\n",
        "def policyExtration(mdp, U):\n",
        "    policy = np.zeros(len(mdp.S))\n",
        "    #type your code here\n",
        "    return policy\n",
        "\n",
        "U = valueIteration(mdp, numIterations=2)\n",
        "policy = policyExtration(mdp, U=U)\n",
        "pl.figure(figsize=(3,3))\n",
        "mdp.gridPlot(ax=pl.gca(), im=U.reshape(10,10), title='Utility', cmap='jet')\n",
        "for s in range(100):\n",
        "    x, y = mdp.s2xy(s)\n",
        "    if policy[s] == 0:\n",
        "        m='\\u02C2'\n",
        "    elif policy[s] == 1:\n",
        "        m='\\u02C3'\n",
        "    elif policy[s] == 2:\n",
        "        m='\\u02C4'\n",
        "    elif policy[s] == 3:\n",
        "        m='\\u02C5'\n",
        "    pl.text(x-0.5,y-1,m,color='k',size=20)\n",
        "pl.show()"
      ]
    },
    {
      "cell_type": "code",
      "execution_count": 17,
      "metadata": {
        "colab": {
          "base_uri": "https://localhost:8080/",
          "height": 331,
          "referenced_widgets": [
            "f4baeeaee7754b2b8cb411d7c4c16b95",
            "9e42df77a86247c3afb539ab785ea751",
            "0543b15ff00d4b4aa6286c6dc6eeb245",
            "400045bbec10490496f2cad89e82e3f9",
            "0bbfca24b0a04e109b288985442090a4",
            "1f4306c9d71d41da9940077216c21cf3",
            "105117886a3545d18061855ad07c55ae"
          ]
        },
        "id": "W7Hvi7YdsAv_",
        "outputId": "62f5b6be-6b12-4aa4-d711-ee81ef978508"
      },
      "outputs": [
        {
          "output_type": "display_data",
          "data": {
            "text/plain": [
              "interactive(children=(IntSlider(value=0, description='numIter', max=20), Output()), _dom_classes=('widget-inte…"
            ],
            "application/vnd.jupyter.widget-view+json": {
              "version_major": 2,
              "version_minor": 0,
              "model_id": "f4baeeaee7754b2b8cb411d7c4c16b95"
            }
          },
          "metadata": {}
        }
      ],
      "source": [
        "def f(numIter=1):\n",
        "    start_time = timeit.default_timer()\n",
        "    U = valueIteration(mdp, numIterations=numIter)\n",
        "    policy = policyExtration(mdp, U=U)\n",
        "    elapsed = timeit.default_timer() - start_time\n",
        "    print('time=', np.round(elapsed*1000,2))\n",
        "    pl.figure(figsize=(3,3))\n",
        "    mdp.gridPlot(ax=pl.gca(), im=U.reshape(10,10), title='Utility', cmap='jet')\n",
        "    for s in range(100):\n",
        "        x, y = mdp.s2xy(s)\n",
        "        if policy[s] == 0:\n",
        "            m='\\u02C2'\n",
        "        elif policy[s] == 1:\n",
        "            m='\\u02C3'\n",
        "        elif policy[s] == 2:\n",
        "            m='\\u02C4'\n",
        "        elif policy[s] == 3:\n",
        "            m='\\u02C5'\n",
        "        pl.text(x-0.5,y-1,m,color='k',size=20)\n",
        "    pl.show()\n",
        "\n",
        "interactive_plot = interactive(f, numIter=widgets.IntSlider(min=0, max=20, step=1, value=0))\n",
        "interactive_plot"
      ]
    },
    {
      "cell_type": "markdown",
      "metadata": {
        "id": "6il1i5CesAwB"
      },
      "source": [
        "### 2. Policy iteration\n",
        "\n",
        "Policy evaluation can be used in policy iteration:\n",
        "1. Given the current policy, compute U\n",
        "2. Using U, compute a new policy"
      ]
    },
    {
      "cell_type": "code",
      "execution_count": 19,
      "metadata": {
        "id": "5VzzQB0jsAwC"
      },
      "outputs": [],
      "source": [
        "def policyIteration(mdp, numIterations=1):\n",
        "    U_pi_k = np.zeros(len(mdp.S)) #initial values\n",
        "    pi_k = np.random.randint(low=0,high=4,size=len(mdp.S),dtype=int) #initial policy\n",
        "    pi_kp1 = copy.copy(pi_k)\n",
        "    for t in range(numIterations):\n",
        "        #Policy evaluation: compute U_pi_k\n",
        "        #type your code here\n",
        "        # Evaluate the current policy pi_k\n",
        "        for eval_iter in range(10):  # Run multiple iterations for accurate evaluation\n",
        "            U_old = copy.copy(U_pi_k)\n",
        "            for s in range(len(mdp.S)):\n",
        "                a = pi_k[s]  # Get action from current policy\n",
        "                expected_utility = 0\n",
        "                for s_next in range(len(mdp.S)):\n",
        "                    expected_utility += mdp.T[s, a, s_next] * U_old[s_next]\n",
        "                U_pi_k[s] = mdp.R[s, a] + mdp.discount * expected_utility\n",
        "\n",
        "        #Policy improvement\n",
        "        #type your code here\n",
        "        # Improve the policy based on current utility estimates\n",
        "        policy_changed = False\n",
        "        for s in range(len(mdp.S)):\n",
        "            max_utility = -np.inf\n",
        "            best_action = pi_k[s]  # Start with current action\n",
        "\n",
        "            # Check all possible actions to find the best one\n",
        "            for a in range(len(mdp.A)):\n",
        "                expected_utility = 0\n",
        "                for s_next in range(len(mdp.S)):\n",
        "                    expected_utility += mdp.T[s, a, s_next] * U_pi_k[s_next]\n",
        "                utility = mdp.R[s, a] + mdp.discount * expected_utility\n",
        "\n",
        "                if utility > max_utility:\n",
        "                    max_utility = utility\n",
        "                    best_action = a\n",
        "\n",
        "            # Update policy if we found a better action\n",
        "            pi_kp1[s] = best_action\n",
        "            if best_action != pi_k[s]:\n",
        "                policy_changed = True\n",
        "\n",
        "        # Check for convergence\n",
        "        if not policy_changed:\n",
        "            break  # Policy has converged, exit early\n",
        "\n",
        "        # Update the policy for next iteration\n",
        "        pi_k = copy.copy(pi_kp1)\n",
        "\n",
        "    return U_pi_k, pi_kp1\n",
        "\n",
        "U_pi_k, pi_kp1 = policyIteration(mdp, numIterations=2)"
      ]
    },
    {
      "cell_type": "code",
      "execution_count": 20,
      "metadata": {
        "colab": {
          "base_uri": "https://localhost:8080/",
          "height": 323,
          "referenced_widgets": [
            "002b30c4ceda4d2d9ead4d6e587518ea",
            "f42b2f233aa3479cb4f496871b69cdd1",
            "fe92ba5673294a6794e0288282041915",
            "02598b71d8b64ac5a112126cf11c6aea",
            "1f71ef5bdc664e45aa14d6198c848c0a",
            "fa2132a9b1324c17bf1d3b7a166eab3b",
            "becc98e4729c49759879ad78af6f3f6d"
          ]
        },
        "id": "lSHVZ0CwsAwE",
        "outputId": "1871ba4d-9540-49ff-d58d-eea0886aff83"
      },
      "outputs": [
        {
          "output_type": "display_data",
          "data": {
            "text/plain": [
              "interactive(children=(IntSlider(value=0, description='numIter', max=20), Output()), _dom_classes=('widget-inte…"
            ],
            "application/vnd.jupyter.widget-view+json": {
              "version_major": 2,
              "version_minor": 0,
              "model_id": "002b30c4ceda4d2d9ead4d6e587518ea"
            }
          },
          "metadata": {}
        }
      ],
      "source": [
        "def f(numIter=1):\n",
        "    start_time = timeit.default_timer()\n",
        "    # code you want to evaluate\n",
        "    value, policy = policyIteration(mdp, numIterations=numIter)\n",
        "    elapsed = timeit.default_timer() - start_time\n",
        "    print('time=', np.round(elapsed*1000,2))\n",
        "    pl.figure(figsize=(3,3))\n",
        "    mdp.gridPlot(ax=pl.gca(), im=value.reshape(10,10), title='Utility', cmap='jet')\n",
        "    for s in range(100):\n",
        "        x, y = mdp.s2xy(s)\n",
        "        if policy[s] == 0:\n",
        "            m='\\u02C2'\n",
        "        elif policy[s] == 1:\n",
        "            m='\\u02C3'\n",
        "        elif policy[s] == 2:\n",
        "            m='\\u02C4'\n",
        "        elif policy[s] == 3:\n",
        "            m='\\u02C5'\n",
        "        pl.text(x-0.5,y-1,m,color='k',size=20)\n",
        "    pl.show()\n",
        "\n",
        "interactive_plot = interactive(f, numIter=widgets.IntSlider(min=0, max=20, step=1, value=0))\n",
        "interactive_plot"
      ]
    }
  ],
  "metadata": {
    "@webio": {
      "lastCommId": "21E8675012EB469B8DD225E5191E1594",
      "lastKernelId": "ec90fbfa-47cf-4656-a1ce-4ca4670e6701"
    },
    "colab": {
      "provenance": [],
      "include_colab_link": true
    },
    "kernelspec": {
      "display_name": "Python 3",
      "language": "python",
      "name": "python3"
    },
    "language_info": {
      "codemirror_mode": {
        "name": "ipython",
        "version": 3
      },
      "file_extension": ".py",
      "mimetype": "text/x-python",
      "name": "python",
      "nbconvert_exporter": "python",
      "pygments_lexer": "ipython3",
      "version": "3.8.8"
    },
    "widgets": {
      "application/vnd.jupyter.widget-state+json": {
        "9c6da2e03d6f4a679e96befeb99a27ae": {
          "model_module": "@jupyter-widgets/controls",
          "model_name": "VBoxModel",
          "model_module_version": "1.5.0",
          "state": {
            "_dom_classes": [
              "widget-interact"
            ],
            "_model_module": "@jupyter-widgets/controls",
            "_model_module_version": "1.5.0",
            "_model_name": "VBoxModel",
            "_view_count": null,
            "_view_module": "@jupyter-widgets/controls",
            "_view_module_version": "1.5.0",
            "_view_name": "VBoxView",
            "box_style": "",
            "children": [
              "IPY_MODEL_999acd8ce37d4c3192b58347bd131c86",
              "IPY_MODEL_8506020462df4549bc9dffbc6a529e58",
              "IPY_MODEL_de6ef5ec25bb4ef7bbd8c108381f47d0",
              "IPY_MODEL_4c015675dacd4c83b26f028dccfe5209"
            ],
            "layout": "IPY_MODEL_7cf5b395635c48f78225555ecc2b75d6"
          }
        },
        "999acd8ce37d4c3192b58347bd131c86": {
          "model_module": "@jupyter-widgets/controls",
          "model_name": "TextModel",
          "model_module_version": "1.5.0",
          "state": {
            "_dom_classes": [],
            "_model_module": "@jupyter-widgets/controls",
            "_model_module_version": "1.5.0",
            "_model_name": "TextModel",
            "_view_count": null,
            "_view_module": "@jupyter-widgets/controls",
            "_view_module_version": "1.5.0",
            "_view_name": "TextView",
            "continuous_update": true,
            "description": "s0_x",
            "description_tooltip": null,
            "disabled": false,
            "layout": "IPY_MODEL_874588d532c74470afeaa89a3d688465",
            "placeholder": "​",
            "style": "IPY_MODEL_68a0e9666c9c48b488afae5d01a978a5",
            "value": "4"
          }
        },
        "8506020462df4549bc9dffbc6a529e58": {
          "model_module": "@jupyter-widgets/controls",
          "model_name": "TextModel",
          "model_module_version": "1.5.0",
          "state": {
            "_dom_classes": [],
            "_model_module": "@jupyter-widgets/controls",
            "_model_module_version": "1.5.0",
            "_model_name": "TextModel",
            "_view_count": null,
            "_view_module": "@jupyter-widgets/controls",
            "_view_module_version": "1.5.0",
            "_view_name": "TextView",
            "continuous_update": true,
            "description": "s0_y",
            "description_tooltip": null,
            "disabled": false,
            "layout": "IPY_MODEL_f9d13c2a3a394c669d6610736e9be8b9",
            "placeholder": "​",
            "style": "IPY_MODEL_d4ad99c0ce4348fda97922dd82823980",
            "value": "5"
          }
        },
        "de6ef5ec25bb4ef7bbd8c108381f47d0": {
          "model_module": "@jupyter-widgets/controls",
          "model_name": "ToggleButtonsModel",
          "model_module_version": "1.5.0",
          "state": {
            "_dom_classes": [],
            "_model_module": "@jupyter-widgets/controls",
            "_model_module_version": "1.5.0",
            "_model_name": "ToggleButtonsModel",
            "_options_labels": [
              "left",
              "right",
              "up",
              "down"
            ],
            "_view_count": null,
            "_view_module": "@jupyter-widgets/controls",
            "_view_module_version": "1.5.0",
            "_view_name": "ToggleButtonsView",
            "button_style": "",
            "description": "action",
            "description_tooltip": null,
            "disabled": false,
            "icons": [],
            "index": 0,
            "layout": "IPY_MODEL_2b998329acc646d9a82fedb5c6d99968",
            "style": "IPY_MODEL_cc5cca85ffd6468f94f70904c08e0979",
            "tooltips": []
          }
        },
        "4c015675dacd4c83b26f028dccfe5209": {
          "model_module": "@jupyter-widgets/output",
          "model_name": "OutputModel",
          "model_module_version": "1.0.0",
          "state": {
            "_dom_classes": [],
            "_model_module": "@jupyter-widgets/output",
            "_model_module_version": "1.0.0",
            "_model_name": "OutputModel",
            "_view_count": null,
            "_view_module": "@jupyter-widgets/output",
            "_view_module_version": "1.0.0",
            "_view_name": "OutputView",
            "layout": "IPY_MODEL_fb7645eccce242c18683f8cef4c62c35",
            "msg_id": "",
            "outputs": [
              {
                "output_type": "display_data",
                "data": {
                  "text/plain": "<Figure size 600x600 with 2 Axes>",
                  "image/png": "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\n"
                },
                "metadata": {}
              }
            ]
          }
        },
        "7cf5b395635c48f78225555ecc2b75d6": {
          "model_module": "@jupyter-widgets/base",
          "model_name": "LayoutModel",
          "model_module_version": "1.2.0",
          "state": {
            "_model_module": "@jupyter-widgets/base",
            "_model_module_version": "1.2.0",
            "_model_name": "LayoutModel",
            "_view_count": null,
            "_view_module": "@jupyter-widgets/base",
            "_view_module_version": "1.2.0",
            "_view_name": "LayoutView",
            "align_content": null,
            "align_items": null,
            "align_self": null,
            "border": null,
            "bottom": null,
            "display": null,
            "flex": null,
            "flex_flow": null,
            "grid_area": null,
            "grid_auto_columns": null,
            "grid_auto_flow": null,
            "grid_auto_rows": null,
            "grid_column": null,
            "grid_gap": null,
            "grid_row": null,
            "grid_template_areas": null,
            "grid_template_columns": null,
            "grid_template_rows": null,
            "height": null,
            "justify_content": null,
            "justify_items": null,
            "left": null,
            "margin": null,
            "max_height": null,
            "max_width": null,
            "min_height": null,
            "min_width": null,
            "object_fit": null,
            "object_position": null,
            "order": null,
            "overflow": null,
            "overflow_x": null,
            "overflow_y": null,
            "padding": null,
            "right": null,
            "top": null,
            "visibility": null,
            "width": null
          }
        },
        "874588d532c74470afeaa89a3d688465": {
          "model_module": "@jupyter-widgets/base",
          "model_name": "LayoutModel",
          "model_module_version": "1.2.0",
          "state": {
            "_model_module": "@jupyter-widgets/base",
            "_model_module_version": "1.2.0",
            "_model_name": "LayoutModel",
            "_view_count": null,
            "_view_module": "@jupyter-widgets/base",
            "_view_module_version": "1.2.0",
            "_view_name": "LayoutView",
            "align_content": null,
            "align_items": null,
            "align_self": null,
            "border": null,
            "bottom": null,
            "display": null,
            "flex": null,
            "flex_flow": null,
            "grid_area": null,
            "grid_auto_columns": null,
            "grid_auto_flow": null,
            "grid_auto_rows": null,
            "grid_column": null,
            "grid_gap": null,
            "grid_row": null,
            "grid_template_areas": null,
            "grid_template_columns": null,
            "grid_template_rows": null,
            "height": null,
            "justify_content": null,
            "justify_items": null,
            "left": null,
            "margin": null,
            "max_height": null,
            "max_width": null,
            "min_height": null,
            "min_width": null,
            "object_fit": null,
            "object_position": null,
            "order": null,
            "overflow": null,
            "overflow_x": null,
            "overflow_y": null,
            "padding": null,
            "right": null,
            "top": null,
            "visibility": null,
            "width": null
          }
        },
        "68a0e9666c9c48b488afae5d01a978a5": {
          "model_module": "@jupyter-widgets/controls",
          "model_name": "DescriptionStyleModel",
          "model_module_version": "1.5.0",
          "state": {
            "_model_module": "@jupyter-widgets/controls",
            "_model_module_version": "1.5.0",
            "_model_name": "DescriptionStyleModel",
            "_view_count": null,
            "_view_module": "@jupyter-widgets/base",
            "_view_module_version": "1.2.0",
            "_view_name": "StyleView",
            "description_width": ""
          }
        },
        "f9d13c2a3a394c669d6610736e9be8b9": {
          "model_module": "@jupyter-widgets/base",
          "model_name": "LayoutModel",
          "model_module_version": "1.2.0",
          "state": {
            "_model_module": "@jupyter-widgets/base",
            "_model_module_version": "1.2.0",
            "_model_name": "LayoutModel",
            "_view_count": null,
            "_view_module": "@jupyter-widgets/base",
            "_view_module_version": "1.2.0",
            "_view_name": "LayoutView",
            "align_content": null,
            "align_items": null,
            "align_self": null,
            "border": null,
            "bottom": null,
            "display": null,
            "flex": null,
            "flex_flow": null,
            "grid_area": null,
            "grid_auto_columns": null,
            "grid_auto_flow": null,
            "grid_auto_rows": null,
            "grid_column": null,
            "grid_gap": null,
            "grid_row": null,
            "grid_template_areas": null,
            "grid_template_columns": null,
            "grid_template_rows": null,
            "height": null,
            "justify_content": null,
            "justify_items": null,
            "left": null,
            "margin": null,
            "max_height": null,
            "max_width": null,
            "min_height": null,
            "min_width": null,
            "object_fit": null,
            "object_position": null,
            "order": null,
            "overflow": null,
            "overflow_x": null,
            "overflow_y": null,
            "padding": null,
            "right": null,
            "top": null,
            "visibility": null,
            "width": null
          }
        },
        "d4ad99c0ce4348fda97922dd82823980": {
          "model_module": "@jupyter-widgets/controls",
          "model_name": "DescriptionStyleModel",
          "model_module_version": "1.5.0",
          "state": {
            "_model_module": "@jupyter-widgets/controls",
            "_model_module_version": "1.5.0",
            "_model_name": "DescriptionStyleModel",
            "_view_count": null,
            "_view_module": "@jupyter-widgets/base",
            "_view_module_version": "1.2.0",
            "_view_name": "StyleView",
            "description_width": ""
          }
        },
        "2b998329acc646d9a82fedb5c6d99968": {
          "model_module": "@jupyter-widgets/base",
          "model_name": "LayoutModel",
          "model_module_version": "1.2.0",
          "state": {
            "_model_module": "@jupyter-widgets/base",
            "_model_module_version": "1.2.0",
            "_model_name": "LayoutModel",
            "_view_count": null,
            "_view_module": "@jupyter-widgets/base",
            "_view_module_version": "1.2.0",
            "_view_name": "LayoutView",
            "align_content": null,
            "align_items": null,
            "align_self": null,
            "border": null,
            "bottom": null,
            "display": null,
            "flex": null,
            "flex_flow": null,
            "grid_area": null,
            "grid_auto_columns": null,
            "grid_auto_flow": null,
            "grid_auto_rows": null,
            "grid_column": null,
            "grid_gap": null,
            "grid_row": null,
            "grid_template_areas": null,
            "grid_template_columns": null,
            "grid_template_rows": null,
            "height": null,
            "justify_content": null,
            "justify_items": null,
            "left": null,
            "margin": null,
            "max_height": null,
            "max_width": null,
            "min_height": null,
            "min_width": null,
            "object_fit": null,
            "object_position": null,
            "order": null,
            "overflow": null,
            "overflow_x": null,
            "overflow_y": null,
            "padding": null,
            "right": null,
            "top": null,
            "visibility": null,
            "width": null
          }
        },
        "cc5cca85ffd6468f94f70904c08e0979": {
          "model_module": "@jupyter-widgets/controls",
          "model_name": "ToggleButtonsStyleModel",
          "model_module_version": "1.5.0",
          "state": {
            "_model_module": "@jupyter-widgets/controls",
            "_model_module_version": "1.5.0",
            "_model_name": "ToggleButtonsStyleModel",
            "_view_count": null,
            "_view_module": "@jupyter-widgets/base",
            "_view_module_version": "1.2.0",
            "_view_name": "StyleView",
            "button_width": "",
            "description_width": "",
            "font_weight": ""
          }
        },
        "fb7645eccce242c18683f8cef4c62c35": {
          "model_module": "@jupyter-widgets/base",
          "model_name": "LayoutModel",
          "model_module_version": "1.2.0",
          "state": {
            "_model_module": "@jupyter-widgets/base",
            "_model_module_version": "1.2.0",
            "_model_name": "LayoutModel",
            "_view_count": null,
            "_view_module": "@jupyter-widgets/base",
            "_view_module_version": "1.2.0",
            "_view_name": "LayoutView",
            "align_content": null,
            "align_items": null,
            "align_self": null,
            "border": null,
            "bottom": null,
            "display": null,
            "flex": null,
            "flex_flow": null,
            "grid_area": null,
            "grid_auto_columns": null,
            "grid_auto_flow": null,
            "grid_auto_rows": null,
            "grid_column": null,
            "grid_gap": null,
            "grid_row": null,
            "grid_template_areas": null,
            "grid_template_columns": null,
            "grid_template_rows": null,
            "height": null,
            "justify_content": null,
            "justify_items": null,
            "left": null,
            "margin": null,
            "max_height": null,
            "max_width": null,
            "min_height": null,
            "min_width": null,
            "object_fit": null,
            "object_position": null,
            "order": null,
            "overflow": null,
            "overflow_x": null,
            "overflow_y": null,
            "padding": null,
            "right": null,
            "top": null,
            "visibility": null,
            "width": null
          }
        },
        "290335746fb44b1e9f517863d6a9e6f3": {
          "model_module": "@jupyter-widgets/controls",
          "model_name": "VBoxModel",
          "model_module_version": "1.5.0",
          "state": {
            "_dom_classes": [
              "widget-interact"
            ],
            "_model_module": "@jupyter-widgets/controls",
            "_model_module_version": "1.5.0",
            "_model_name": "VBoxModel",
            "_view_count": null,
            "_view_module": "@jupyter-widgets/controls",
            "_view_module_version": "1.5.0",
            "_view_name": "VBoxView",
            "box_style": "",
            "children": [
              "IPY_MODEL_ab68491e06b0482f8036d512f8615da4",
              "IPY_MODEL_5274bb9ead2c4458b4d26d8e08c9b896",
              "IPY_MODEL_0725fa7e2f664421bb5d593bdaf0a106"
            ],
            "layout": "IPY_MODEL_074513bbf6e2424aaf2f046eec7f3bb6"
          }
        },
        "ab68491e06b0482f8036d512f8615da4": {
          "model_module": "@jupyter-widgets/controls",
          "model_name": "ToggleButtonsModel",
          "model_module_version": "1.5.0",
          "state": {
            "_dom_classes": [],
            "_model_module": "@jupyter-widgets/controls",
            "_model_module_version": "1.5.0",
            "_model_name": "ToggleButtonsModel",
            "_options_labels": [
              "left",
              "right",
              "up",
              "down"
            ],
            "_view_count": null,
            "_view_module": "@jupyter-widgets/controls",
            "_view_module_version": "1.5.0",
            "_view_name": "ToggleButtonsView",
            "button_style": "",
            "description": "action",
            "description_tooltip": null,
            "disabled": false,
            "icons": [],
            "index": 0,
            "layout": "IPY_MODEL_47546d02517b40c0b5613c0d96c085a7",
            "style": "IPY_MODEL_a7d6d125a4c54bd289af3cf7497dc0ca",
            "tooltips": []
          }
        },
        "5274bb9ead2c4458b4d26d8e08c9b896": {
          "model_module": "@jupyter-widgets/controls",
          "model_name": "IntSliderModel",
          "model_module_version": "1.5.0",
          "state": {
            "_dom_classes": [],
            "_model_module": "@jupyter-widgets/controls",
            "_model_module_version": "1.5.0",
            "_model_name": "IntSliderModel",
            "_view_count": null,
            "_view_module": "@jupyter-widgets/controls",
            "_view_module_version": "1.5.0",
            "_view_name": "IntSliderView",
            "continuous_update": true,
            "description": "numIter",
            "description_tooltip": null,
            "disabled": false,
            "layout": "IPY_MODEL_92b15ee33d0b434a932e94cb240586bc",
            "max": 20,
            "min": 0,
            "orientation": "horizontal",
            "readout": true,
            "readout_format": "d",
            "step": 1,
            "style": "IPY_MODEL_41bf152b97ab468d908273ccc730576a",
            "value": 4
          }
        },
        "0725fa7e2f664421bb5d593bdaf0a106": {
          "model_module": "@jupyter-widgets/output",
          "model_name": "OutputModel",
          "model_module_version": "1.0.0",
          "state": {
            "_dom_classes": [],
            "_model_module": "@jupyter-widgets/output",
            "_model_module_version": "1.0.0",
            "_model_name": "OutputModel",
            "_view_count": null,
            "_view_module": "@jupyter-widgets/output",
            "_view_module_version": "1.0.0",
            "_view_name": "OutputView",
            "layout": "IPY_MODEL_2e8d014ee6884ab3925c97d115968048",
            "msg_id": "",
            "outputs": [
              {
                "output_type": "display_data",
                "data": {
                  "text/plain": "<Figure size 300x300 with 2 Axes>",
                  "image/png": "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\n"
                },
                "metadata": {}
              }
            ]
          }
        },
        "074513bbf6e2424aaf2f046eec7f3bb6": {
          "model_module": "@jupyter-widgets/base",
          "model_name": "LayoutModel",
          "model_module_version": "1.2.0",
          "state": {
            "_model_module": "@jupyter-widgets/base",
            "_model_module_version": "1.2.0",
            "_model_name": "LayoutModel",
            "_view_count": null,
            "_view_module": "@jupyter-widgets/base",
            "_view_module_version": "1.2.0",
            "_view_name": "LayoutView",
            "align_content": null,
            "align_items": null,
            "align_self": null,
            "border": null,
            "bottom": null,
            "display": null,
            "flex": null,
            "flex_flow": null,
            "grid_area": null,
            "grid_auto_columns": null,
            "grid_auto_flow": null,
            "grid_auto_rows": null,
            "grid_column": null,
            "grid_gap": null,
            "grid_row": null,
            "grid_template_areas": null,
            "grid_template_columns": null,
            "grid_template_rows": null,
            "height": null,
            "justify_content": null,
            "justify_items": null,
            "left": null,
            "margin": null,
            "max_height": null,
            "max_width": null,
            "min_height": null,
            "min_width": null,
            "object_fit": null,
            "object_position": null,
            "order": null,
            "overflow": null,
            "overflow_x": null,
            "overflow_y": null,
            "padding": null,
            "right": null,
            "top": null,
            "visibility": null,
            "width": null
          }
        },
        "47546d02517b40c0b5613c0d96c085a7": {
          "model_module": "@jupyter-widgets/base",
          "model_name": "LayoutModel",
          "model_module_version": "1.2.0",
          "state": {
            "_model_module": "@jupyter-widgets/base",
            "_model_module_version": "1.2.0",
            "_model_name": "LayoutModel",
            "_view_count": null,
            "_view_module": "@jupyter-widgets/base",
            "_view_module_version": "1.2.0",
            "_view_name": "LayoutView",
            "align_content": null,
            "align_items": null,
            "align_self": null,
            "border": null,
            "bottom": null,
            "display": null,
            "flex": null,
            "flex_flow": null,
            "grid_area": null,
            "grid_auto_columns": null,
            "grid_auto_flow": null,
            "grid_auto_rows": null,
            "grid_column": null,
            "grid_gap": null,
            "grid_row": null,
            "grid_template_areas": null,
            "grid_template_columns": null,
            "grid_template_rows": null,
            "height": null,
            "justify_content": null,
            "justify_items": null,
            "left": null,
            "margin": null,
            "max_height": null,
            "max_width": null,
            "min_height": null,
            "min_width": null,
            "object_fit": null,
            "object_position": null,
            "order": null,
            "overflow": null,
            "overflow_x": null,
            "overflow_y": null,
            "padding": null,
            "right": null,
            "top": null,
            "visibility": null,
            "width": null
          }
        },
        "a7d6d125a4c54bd289af3cf7497dc0ca": {
          "model_module": "@jupyter-widgets/controls",
          "model_name": "ToggleButtonsStyleModel",
          "model_module_version": "1.5.0",
          "state": {
            "_model_module": "@jupyter-widgets/controls",
            "_model_module_version": "1.5.0",
            "_model_name": "ToggleButtonsStyleModel",
            "_view_count": null,
            "_view_module": "@jupyter-widgets/base",
            "_view_module_version": "1.2.0",
            "_view_name": "StyleView",
            "button_width": "",
            "description_width": "",
            "font_weight": ""
          }
        },
        "92b15ee33d0b434a932e94cb240586bc": {
          "model_module": "@jupyter-widgets/base",
          "model_name": "LayoutModel",
          "model_module_version": "1.2.0",
          "state": {
            "_model_module": "@jupyter-widgets/base",
            "_model_module_version": "1.2.0",
            "_model_name": "LayoutModel",
            "_view_count": null,
            "_view_module": "@jupyter-widgets/base",
            "_view_module_version": "1.2.0",
            "_view_name": "LayoutView",
            "align_content": null,
            "align_items": null,
            "align_self": null,
            "border": null,
            "bottom": null,
            "display": null,
            "flex": null,
            "flex_flow": null,
            "grid_area": null,
            "grid_auto_columns": null,
            "grid_auto_flow": null,
            "grid_auto_rows": null,
            "grid_column": null,
            "grid_gap": null,
            "grid_row": null,
            "grid_template_areas": null,
            "grid_template_columns": null,
            "grid_template_rows": null,
            "height": null,
            "justify_content": null,
            "justify_items": null,
            "left": null,
            "margin": null,
            "max_height": null,
            "max_width": null,
            "min_height": null,
            "min_width": null,
            "object_fit": null,
            "object_position": null,
            "order": null,
            "overflow": null,
            "overflow_x": null,
            "overflow_y": null,
            "padding": null,
            "right": null,
            "top": null,
            "visibility": null,
            "width": null
          }
        },
        "41bf152b97ab468d908273ccc730576a": {
          "model_module": "@jupyter-widgets/controls",
          "model_name": "SliderStyleModel",
          "model_module_version": "1.5.0",
          "state": {
            "_model_module": "@jupyter-widgets/controls",
            "_model_module_version": "1.5.0",
            "_model_name": "SliderStyleModel",
            "_view_count": null,
            "_view_module": "@jupyter-widgets/base",
            "_view_module_version": "1.2.0",
            "_view_name": "StyleView",
            "description_width": "",
            "handle_color": null
          }
        },
        "2e8d014ee6884ab3925c97d115968048": {
          "model_module": "@jupyter-widgets/base",
          "model_name": "LayoutModel",
          "model_module_version": "1.2.0",
          "state": {
            "_model_module": "@jupyter-widgets/base",
            "_model_module_version": "1.2.0",
            "_model_name": "LayoutModel",
            "_view_count": null,
            "_view_module": "@jupyter-widgets/base",
            "_view_module_version": "1.2.0",
            "_view_name": "LayoutView",
            "align_content": null,
            "align_items": null,
            "align_self": null,
            "border": null,
            "bottom": null,
            "display": null,
            "flex": null,
            "flex_flow": null,
            "grid_area": null,
            "grid_auto_columns": null,
            "grid_auto_flow": null,
            "grid_auto_rows": null,
            "grid_column": null,
            "grid_gap": null,
            "grid_row": null,
            "grid_template_areas": null,
            "grid_template_columns": null,
            "grid_template_rows": null,
            "height": null,
            "justify_content": null,
            "justify_items": null,
            "left": null,
            "margin": null,
            "max_height": null,
            "max_width": null,
            "min_height": null,
            "min_width": null,
            "object_fit": null,
            "object_position": null,
            "order": null,
            "overflow": null,
            "overflow_x": null,
            "overflow_y": null,
            "padding": null,
            "right": null,
            "top": null,
            "visibility": null,
            "width": null
          }
        },
        "f4baeeaee7754b2b8cb411d7c4c16b95": {
          "model_module": "@jupyter-widgets/controls",
          "model_name": "VBoxModel",
          "model_module_version": "1.5.0",
          "state": {
            "_dom_classes": [
              "widget-interact"
            ],
            "_model_module": "@jupyter-widgets/controls",
            "_model_module_version": "1.5.0",
            "_model_name": "VBoxModel",
            "_view_count": null,
            "_view_module": "@jupyter-widgets/controls",
            "_view_module_version": "1.5.0",
            "_view_name": "VBoxView",
            "box_style": "",
            "children": [
              "IPY_MODEL_9e42df77a86247c3afb539ab785ea751",
              "IPY_MODEL_0543b15ff00d4b4aa6286c6dc6eeb245"
            ],
            "layout": "IPY_MODEL_400045bbec10490496f2cad89e82e3f9"
          }
        },
        "9e42df77a86247c3afb539ab785ea751": {
          "model_module": "@jupyter-widgets/controls",
          "model_name": "IntSliderModel",
          "model_module_version": "1.5.0",
          "state": {
            "_dom_classes": [],
            "_model_module": "@jupyter-widgets/controls",
            "_model_module_version": "1.5.0",
            "_model_name": "IntSliderModel",
            "_view_count": null,
            "_view_module": "@jupyter-widgets/controls",
            "_view_module_version": "1.5.0",
            "_view_name": "IntSliderView",
            "continuous_update": true,
            "description": "numIter",
            "description_tooltip": null,
            "disabled": false,
            "layout": "IPY_MODEL_0bbfca24b0a04e109b288985442090a4",
            "max": 20,
            "min": 0,
            "orientation": "horizontal",
            "readout": true,
            "readout_format": "d",
            "step": 1,
            "style": "IPY_MODEL_1f4306c9d71d41da9940077216c21cf3",
            "value": 12
          }
        },
        "0543b15ff00d4b4aa6286c6dc6eeb245": {
          "model_module": "@jupyter-widgets/output",
          "model_name": "OutputModel",
          "model_module_version": "1.0.0",
          "state": {
            "_dom_classes": [],
            "_model_module": "@jupyter-widgets/output",
            "_model_module_version": "1.0.0",
            "_model_name": "OutputModel",
            "_view_count": null,
            "_view_module": "@jupyter-widgets/output",
            "_view_module_version": "1.0.0",
            "_view_name": "OutputView",
            "layout": "IPY_MODEL_105117886a3545d18061855ad07c55ae",
            "msg_id": "",
            "outputs": [
              {
                "output_type": "stream",
                "name": "stdout",
                "text": [
                  "time= 0.05\n"
                ]
              },
              {
                "output_type": "display_data",
                "data": {
                  "text/plain": "<Figure size 300x300 with 2 Axes>",
                  "image/png": "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\n"
                },
                "metadata": {}
              }
            ]
          }
        },
        "400045bbec10490496f2cad89e82e3f9": {
          "model_module": "@jupyter-widgets/base",
          "model_name": "LayoutModel",
          "model_module_version": "1.2.0",
          "state": {
            "_model_module": "@jupyter-widgets/base",
            "_model_module_version": "1.2.0",
            "_model_name": "LayoutModel",
            "_view_count": null,
            "_view_module": "@jupyter-widgets/base",
            "_view_module_version": "1.2.0",
            "_view_name": "LayoutView",
            "align_content": null,
            "align_items": null,
            "align_self": null,
            "border": null,
            "bottom": null,
            "display": null,
            "flex": null,
            "flex_flow": null,
            "grid_area": null,
            "grid_auto_columns": null,
            "grid_auto_flow": null,
            "grid_auto_rows": null,
            "grid_column": null,
            "grid_gap": null,
            "grid_row": null,
            "grid_template_areas": null,
            "grid_template_columns": null,
            "grid_template_rows": null,
            "height": null,
            "justify_content": null,
            "justify_items": null,
            "left": null,
            "margin": null,
            "max_height": null,
            "max_width": null,
            "min_height": null,
            "min_width": null,
            "object_fit": null,
            "object_position": null,
            "order": null,
            "overflow": null,
            "overflow_x": null,
            "overflow_y": null,
            "padding": null,
            "right": null,
            "top": null,
            "visibility": null,
            "width": null
          }
        },
        "0bbfca24b0a04e109b288985442090a4": {
          "model_module": "@jupyter-widgets/base",
          "model_name": "LayoutModel",
          "model_module_version": "1.2.0",
          "state": {
            "_model_module": "@jupyter-widgets/base",
            "_model_module_version": "1.2.0",
            "_model_name": "LayoutModel",
            "_view_count": null,
            "_view_module": "@jupyter-widgets/base",
            "_view_module_version": "1.2.0",
            "_view_name": "LayoutView",
            "align_content": null,
            "align_items": null,
            "align_self": null,
            "border": null,
            "bottom": null,
            "display": null,
            "flex": null,
            "flex_flow": null,
            "grid_area": null,
            "grid_auto_columns": null,
            "grid_auto_flow": null,
            "grid_auto_rows": null,
            "grid_column": null,
            "grid_gap": null,
            "grid_row": null,
            "grid_template_areas": null,
            "grid_template_columns": null,
            "grid_template_rows": null,
            "height": null,
            "justify_content": null,
            "justify_items": null,
            "left": null,
            "margin": null,
            "max_height": null,
            "max_width": null,
            "min_height": null,
            "min_width": null,
            "object_fit": null,
            "object_position": null,
            "order": null,
            "overflow": null,
            "overflow_x": null,
            "overflow_y": null,
            "padding": null,
            "right": null,
            "top": null,
            "visibility": null,
            "width": null
          }
        },
        "1f4306c9d71d41da9940077216c21cf3": {
          "model_module": "@jupyter-widgets/controls",
          "model_name": "SliderStyleModel",
          "model_module_version": "1.5.0",
          "state": {
            "_model_module": "@jupyter-widgets/controls",
            "_model_module_version": "1.5.0",
            "_model_name": "SliderStyleModel",
            "_view_count": null,
            "_view_module": "@jupyter-widgets/base",
            "_view_module_version": "1.2.0",
            "_view_name": "StyleView",
            "description_width": "",
            "handle_color": null
          }
        },
        "105117886a3545d18061855ad07c55ae": {
          "model_module": "@jupyter-widgets/base",
          "model_name": "LayoutModel",
          "model_module_version": "1.2.0",
          "state": {
            "_model_module": "@jupyter-widgets/base",
            "_model_module_version": "1.2.0",
            "_model_name": "LayoutModel",
            "_view_count": null,
            "_view_module": "@jupyter-widgets/base",
            "_view_module_version": "1.2.0",
            "_view_name": "LayoutView",
            "align_content": null,
            "align_items": null,
            "align_self": null,
            "border": null,
            "bottom": null,
            "display": null,
            "flex": null,
            "flex_flow": null,
            "grid_area": null,
            "grid_auto_columns": null,
            "grid_auto_flow": null,
            "grid_auto_rows": null,
            "grid_column": null,
            "grid_gap": null,
            "grid_row": null,
            "grid_template_areas": null,
            "grid_template_columns": null,
            "grid_template_rows": null,
            "height": null,
            "justify_content": null,
            "justify_items": null,
            "left": null,
            "margin": null,
            "max_height": null,
            "max_width": null,
            "min_height": null,
            "min_width": null,
            "object_fit": null,
            "object_position": null,
            "order": null,
            "overflow": null,
            "overflow_x": null,
            "overflow_y": null,
            "padding": null,
            "right": null,
            "top": null,
            "visibility": null,
            "width": null
          }
        },
        "002b30c4ceda4d2d9ead4d6e587518ea": {
          "model_module": "@jupyter-widgets/controls",
          "model_name": "VBoxModel",
          "model_module_version": "1.5.0",
          "state": {
            "_dom_classes": [
              "widget-interact"
            ],
            "_model_module": "@jupyter-widgets/controls",
            "_model_module_version": "1.5.0",
            "_model_name": "VBoxModel",
            "_view_count": null,
            "_view_module": "@jupyter-widgets/controls",
            "_view_module_version": "1.5.0",
            "_view_name": "VBoxView",
            "box_style": "",
            "children": [
              "IPY_MODEL_f42b2f233aa3479cb4f496871b69cdd1",
              "IPY_MODEL_fe92ba5673294a6794e0288282041915"
            ],
            "layout": "IPY_MODEL_02598b71d8b64ac5a112126cf11c6aea"
          }
        },
        "f42b2f233aa3479cb4f496871b69cdd1": {
          "model_module": "@jupyter-widgets/controls",
          "model_name": "IntSliderModel",
          "model_module_version": "1.5.0",
          "state": {
            "_dom_classes": [],
            "_model_module": "@jupyter-widgets/controls",
            "_model_module_version": "1.5.0",
            "_model_name": "IntSliderModel",
            "_view_count": null,
            "_view_module": "@jupyter-widgets/controls",
            "_view_module_version": "1.5.0",
            "_view_name": "IntSliderView",
            "continuous_update": true,
            "description": "numIter",
            "description_tooltip": null,
            "disabled": false,
            "layout": "IPY_MODEL_1f71ef5bdc664e45aa14d6198c848c0a",
            "max": 20,
            "min": 0,
            "orientation": "horizontal",
            "readout": true,
            "readout_format": "d",
            "step": 1,
            "style": "IPY_MODEL_fa2132a9b1324c17bf1d3b7a166eab3b",
            "value": 12
          }
        },
        "fe92ba5673294a6794e0288282041915": {
          "model_module": "@jupyter-widgets/output",
          "model_name": "OutputModel",
          "model_module_version": "1.0.0",
          "state": {
            "_dom_classes": [],
            "_model_module": "@jupyter-widgets/output",
            "_model_module_version": "1.0.0",
            "_model_name": "OutputModel",
            "_view_count": null,
            "_view_module": "@jupyter-widgets/output",
            "_view_module_version": "1.0.0",
            "_view_name": "OutputView",
            "layout": "IPY_MODEL_becc98e4729c49759879ad78af6f3f6d",
            "msg_id": "",
            "outputs": [
              {
                "output_type": "stream",
                "name": "stdout",
                "text": [
                  "time= 454.85\n"
                ]
              },
              {
                "output_type": "display_data",
                "data": {
                  "text/plain": "<Figure size 300x300 with 2 Axes>",
                  "image/png": "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\n"
                },
                "metadata": {}
              }
            ]
          }
        },
        "02598b71d8b64ac5a112126cf11c6aea": {
          "model_module": "@jupyter-widgets/base",
          "model_name": "LayoutModel",
          "model_module_version": "1.2.0",
          "state": {
            "_model_module": "@jupyter-widgets/base",
            "_model_module_version": "1.2.0",
            "_model_name": "LayoutModel",
            "_view_count": null,
            "_view_module": "@jupyter-widgets/base",
            "_view_module_version": "1.2.0",
            "_view_name": "LayoutView",
            "align_content": null,
            "align_items": null,
            "align_self": null,
            "border": null,
            "bottom": null,
            "display": null,
            "flex": null,
            "flex_flow": null,
            "grid_area": null,
            "grid_auto_columns": null,
            "grid_auto_flow": null,
            "grid_auto_rows": null,
            "grid_column": null,
            "grid_gap": null,
            "grid_row": null,
            "grid_template_areas": null,
            "grid_template_columns": null,
            "grid_template_rows": null,
            "height": null,
            "justify_content": null,
            "justify_items": null,
            "left": null,
            "margin": null,
            "max_height": null,
            "max_width": null,
            "min_height": null,
            "min_width": null,
            "object_fit": null,
            "object_position": null,
            "order": null,
            "overflow": null,
            "overflow_x": null,
            "overflow_y": null,
            "padding": null,
            "right": null,
            "top": null,
            "visibility": null,
            "width": null
          }
        },
        "1f71ef5bdc664e45aa14d6198c848c0a": {
          "model_module": "@jupyter-widgets/base",
          "model_name": "LayoutModel",
          "model_module_version": "1.2.0",
          "state": {
            "_model_module": "@jupyter-widgets/base",
            "_model_module_version": "1.2.0",
            "_model_name": "LayoutModel",
            "_view_count": null,
            "_view_module": "@jupyter-widgets/base",
            "_view_module_version": "1.2.0",
            "_view_name": "LayoutView",
            "align_content": null,
            "align_items": null,
            "align_self": null,
            "border": null,
            "bottom": null,
            "display": null,
            "flex": null,
            "flex_flow": null,
            "grid_area": null,
            "grid_auto_columns": null,
            "grid_auto_flow": null,
            "grid_auto_rows": null,
            "grid_column": null,
            "grid_gap": null,
            "grid_row": null,
            "grid_template_areas": null,
            "grid_template_columns": null,
            "grid_template_rows": null,
            "height": null,
            "justify_content": null,
            "justify_items": null,
            "left": null,
            "margin": null,
            "max_height": null,
            "max_width": null,
            "min_height": null,
            "min_width": null,
            "object_fit": null,
            "object_position": null,
            "order": null,
            "overflow": null,
            "overflow_x": null,
            "overflow_y": null,
            "padding": null,
            "right": null,
            "top": null,
            "visibility": null,
            "width": null
          }
        },
        "fa2132a9b1324c17bf1d3b7a166eab3b": {
          "model_module": "@jupyter-widgets/controls",
          "model_name": "SliderStyleModel",
          "model_module_version": "1.5.0",
          "state": {
            "_model_module": "@jupyter-widgets/controls",
            "_model_module_version": "1.5.0",
            "_model_name": "SliderStyleModel",
            "_view_count": null,
            "_view_module": "@jupyter-widgets/base",
            "_view_module_version": "1.2.0",
            "_view_name": "StyleView",
            "description_width": "",
            "handle_color": null
          }
        },
        "becc98e4729c49759879ad78af6f3f6d": {
          "model_module": "@jupyter-widgets/base",
          "model_name": "LayoutModel",
          "model_module_version": "1.2.0",
          "state": {
            "_model_module": "@jupyter-widgets/base",
            "_model_module_version": "1.2.0",
            "_model_name": "LayoutModel",
            "_view_count": null,
            "_view_module": "@jupyter-widgets/base",
            "_view_module_version": "1.2.0",
            "_view_name": "LayoutView",
            "align_content": null,
            "align_items": null,
            "align_self": null,
            "border": null,
            "bottom": null,
            "display": null,
            "flex": null,
            "flex_flow": null,
            "grid_area": null,
            "grid_auto_columns": null,
            "grid_auto_flow": null,
            "grid_auto_rows": null,
            "grid_column": null,
            "grid_gap": null,
            "grid_row": null,
            "grid_template_areas": null,
            "grid_template_columns": null,
            "grid_template_rows": null,
            "height": null,
            "justify_content": null,
            "justify_items": null,
            "left": null,
            "margin": null,
            "max_height": null,
            "max_width": null,
            "min_height": null,
            "min_width": null,
            "object_fit": null,
            "object_position": null,
            "order": null,
            "overflow": null,
            "overflow_x": null,
            "overflow_y": null,
            "padding": null,
            "right": null,
            "top": null,
            "visibility": null,
            "width": null
          }
        }
      }
    }
  },
  "nbformat": 4,
  "nbformat_minor": 0
}